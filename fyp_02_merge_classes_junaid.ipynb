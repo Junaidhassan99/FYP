{
  "cells": [
    {
      "cell_type": "code",
      "execution_count": null,
      "metadata": {
        "id": "NMhKY5bL_sKt"
      },
      "outputs": [],
      "source": [
        "import pandas as pd\n",
        "import numpy as np\n",
        "import tensorflow as tf\n",
        "\n",
        "import os, sys\n",
        "import json\n",
        "from os import listdir\n",
        "from os.path import isfile, join\n",
        "import shutil \n",
        "\n",
        "import matplotlib.pyplot as plt\n",
        "import matplotlib.image as mpimg\n",
        "\n",
        "import cv2\n",
        "\n",
        "from random import randrange\n",
        "from random import shuffle\n",
        "\n",
        "from sklearn.model_selection import train_test_split\n",
        "from sklearn.metrics import f1_score\n",
        "\n",
        "import scipy.io\n",
        "\n",
        "from tensorflow.keras.callbacks import ModelCheckpoint, ReduceLROnPlateau, EarlyStopping\n",
        "from keras.models import load_model"
      ]
    },
    {
      "cell_type": "code",
      "execution_count": null,
      "metadata": {
        "id": "yV9NITzx_5JU"
      },
      "outputs": [],
      "source": [
        "tf.random.set_seed(42)\n",
        "np.random.seed(42)"
      ]
    },
    {
      "cell_type": "code",
      "execution_count": null,
      "metadata": {
        "colab": {
          "base_uri": "https://localhost:8080/"
        },
        "id": "ZiGU5_mA_6LE",
        "outputId": "bca06c0c-985a-42a1-f492-6f7d2c64b681"
      },
      "outputs": [
        {
          "name": "stdout",
          "output_type": "stream",
          "text": [
            "Sun Dec 11 12:55:30 2022       \n",
            "+-----------------------------------------------------------------------------+\n",
            "| NVIDIA-SMI 460.32.03    Driver Version: 460.32.03    CUDA Version: 11.2     |\n",
            "|-------------------------------+----------------------+----------------------+\n",
            "| GPU  Name        Persistence-M| Bus-Id        Disp.A | Volatile Uncorr. ECC |\n",
            "| Fan  Temp  Perf  Pwr:Usage/Cap|         Memory-Usage | GPU-Util  Compute M. |\n",
            "|                               |                      |               MIG M. |\n",
            "|===============================+======================+======================|\n",
            "|   0  Tesla T4            Off  | 00000000:00:04.0 Off |                    0 |\n",
            "| N/A   46C    P8    10W /  70W |      3MiB / 15109MiB |      0%      Default |\n",
            "|                               |                      |                  N/A |\n",
            "+-------------------------------+----------------------+----------------------+\n",
            "                                                                               \n",
            "+-----------------------------------------------------------------------------+\n",
            "| Processes:                                                                  |\n",
            "|  GPU   GI   CI        PID   Type   Process name                  GPU Memory |\n",
            "|        ID   ID                                                   Usage      |\n",
            "|=============================================================================|\n",
            "|  No running processes found                                                 |\n",
            "+-----------------------------------------------------------------------------+\n"
          ]
        }
      ],
      "source": [
        "!nvidia-smi"
      ]
    },
    {
      "cell_type": "code",
      "execution_count": null,
      "metadata": {
        "colab": {
          "base_uri": "https://localhost:8080/"
        },
        "id": "hdp6y01r_8FD",
        "outputId": "70ac2ff8-4995-4566-c802-7d8c94b29ef9"
      },
      "outputs": [
        {
          "data": {
            "text/plain": [
              "<Policy \"mixed_float16\">"
            ]
          },
          "execution_count": 30,
          "metadata": {},
          "output_type": "execute_result"
        }
      ],
      "source": [
        "tf.keras.mixed_precision.set_global_policy(policy=\"mixed_float16\")\n",
        "\n",
        "tf.keras.mixed_precision.global_policy()"
      ]
    },
    {
      "cell_type": "code",
      "execution_count": null,
      "metadata": {
        "id": "Dj88jdoc_96Z"
      },
      "outputs": [],
      "source": [
        "is_download_cihp_dataset = True\n",
        "\n",
        "run_model_parsing_1 = False"
      ]
    },
    {
      "cell_type": "code",
      "execution_count": null,
      "metadata": {
        "colab": {
          "base_uri": "https://localhost:8080/"
        },
        "id": "HGmtilUcAEKc",
        "outputId": "045e8e84-57dd-4a56-c6ac-59a12f762743"
      },
      "outputs": [
        {
          "name": "stdout",
          "output_type": "stream",
          "text": [
            "Drive already mounted at /content/gdrive; to attempt to forcibly remount, call drive.mount(\"/content/gdrive\", force_remount=True).\n"
          ]
        }
      ],
      "source": [
        "saved_models_path = '/content/gdrive/MyDrive/Saved-Models'\n",
        "\n",
        "from google.colab import drive\n",
        "drive.mount('/content/gdrive')"
      ]
    },
    {
      "cell_type": "code",
      "execution_count": null,
      "metadata": {
        "id": "wi0mG_PsCvqj"
      },
      "outputs": [],
      "source": [
        "def get_file_paths_at_index(root_dir, index=0):\n",
        "\n",
        "  \"\"\"\n",
        "  get a list of datapoints at an index from each sub directory\n",
        "  \"\"\"\n",
        "  \n",
        "  if os.path.exists(root_dir):\n",
        "\n",
        "    result_files = []\n",
        "    for root, dirs, files in os.walk(root_dir):\n",
        "        if files and len(files) > index:\n",
        "            result_files.append(os.path.join(root, sorted(files)[index]))\n",
        "\n",
        "    return sorted(result_files)\n",
        "\n",
        "  else:\n",
        "    print('No such directory found: ', root_dir)"
      ]
    },
    {
      "cell_type": "code",
      "execution_count": null,
      "metadata": {
        "id": "et3k-8qaAMrE"
      },
      "outputs": [],
      "source": [
        "def move_all_files_and_sub_dirs(source, destination):\n",
        "\n",
        "  \"\"\"\n",
        "  Moves all files and sub-directories at root level of a directory to another place \n",
        "  along with all there contents\n",
        "  \"\"\"\n",
        "\n",
        "  root_dir = list(os.walk(source))[0][0]\n",
        "  sub_dir_and_files = [os.path.join(root_dir, i) for i in (list(os.walk(source))[0][1] + list(os.walk(source))[0][2])]\n",
        "\n",
        "  for item in sub_dir_and_files:\n",
        "\n",
        "    shutil.move(item, destination)"
      ]
    },
    {
      "cell_type": "code",
      "execution_count": null,
      "metadata": {
        "colab": {
          "background_save": true,
          "base_uri": "https://localhost:8080/"
        },
        "id": "6-tVuza8AQ7s",
        "outputId": "d5ea7437-56d2-4523-e6be-69693eb2529a"
      },
      "outputs": [
        {
          "name": "stdout",
          "output_type": "stream",
          "text": [
            "Looking in indexes: https://pypi.org/simple, https://us-python.pkg.dev/colab-wheels/public/simple/\n",
            "Requirement already satisfied: gdown in /usr/local/lib/python3.8/dist-packages (4.4.0)\n",
            "Collecting gdown\n",
            "  Downloading gdown-4.6.0-py3-none-any.whl (14 kB)\n",
            "Requirement already satisfied: requests[socks] in /usr/local/lib/python3.8/dist-packages (from gdown) (2.23.0)\n",
            "Requirement already satisfied: tqdm in /usr/local/lib/python3.8/dist-packages (from gdown) (4.64.1)\n",
            "Requirement already satisfied: beautifulsoup4 in /usr/local/lib/python3.8/dist-packages (from gdown) (4.6.3)\n",
            "Requirement already satisfied: filelock in /usr/local/lib/python3.8/dist-packages (from gdown) (3.8.0)\n",
            "Requirement already satisfied: six in /usr/local/lib/python3.8/dist-packages (from gdown) (1.15.0)\n",
            "Requirement already satisfied: certifi>=2017.4.17 in /usr/local/lib/python3.8/dist-packages (from requests[socks]->gdown) (2022.9.24)\n",
            "Requirement already satisfied: idna<3,>=2.5 in /usr/local/lib/python3.8/dist-packages (from requests[socks]->gdown) (2.10)\n",
            "Requirement already satisfied: urllib3!=1.25.0,!=1.25.1,<1.26,>=1.21.1 in /usr/local/lib/python3.8/dist-packages (from requests[socks]->gdown) (1.24.3)\n",
            "Requirement already satisfied: chardet<4,>=3.0.2 in /usr/local/lib/python3.8/dist-packages (from requests[socks]->gdown) (3.0.4)\n",
            "Requirement already satisfied: PySocks!=1.5.7,>=1.5.6 in /usr/local/lib/python3.8/dist-packages (from requests[socks]->gdown) (1.7.1)\n",
            "Installing collected packages: gdown\n",
            "  Attempting uninstall: gdown\n",
            "    Found existing installation: gdown 4.4.0\n",
            "    Uninstalling gdown-4.4.0:\n",
            "      Successfully uninstalled gdown-4.4.0\n",
            "Successfully installed gdown-4.6.0\n",
            "--2022-12-11 12:55:40--  https://drive.google.com/uc?id=1B9A9UCJYMwTL4oBEo4RZfbMZMaZhKJaz\n",
            "Resolving drive.google.com (drive.google.com)... 142.251.12.102, 142.251.12.113, 142.251.12.139, ...\n",
            "Connecting to drive.google.com (drive.google.com)|142.251.12.102|:443... connected.\n",
            "HTTP request sent, awaiting response... 200 OK\n",
            "Length: unspecified [text/html]\n",
            "Saving to: ‘uc?id=1B9A9UCJYMwTL4oBEo4RZfbMZMaZhKJaz’\n",
            "\n",
            "uc?id=1B9A9UCJYMwTL     [ <=>                ]   2.22K  --.-KB/s    in 0s      \n",
            "\n",
            "2022-12-11 12:55:42 (32.2 MB/s) - ‘uc?id=1B9A9UCJYMwTL4oBEo4RZfbMZMaZhKJaz’ saved [2275]\n",
            "\n",
            "Downloading...\n",
            "From: https://drive.google.com/uc?id=1B9A9UCJYMwTL4oBEo4RZfbMZMaZhKJaz\n",
            "To: /content/instance-level-human-parsing.zip\n",
            "100% 2.91G/2.91G [00:36<00:00, 80.4MB/s]\n",
            "CPU times: user 1.5 s, sys: 1.45 s, total: 2.95 s\n",
            "Wall time: 1min 28s\n"
          ]
        }
      ],
      "source": [
        "%%time\n",
        "if is_download_cihp_dataset:\n",
        "\n",
        "  !pip install --upgrade --no-cache-dir gdown\n",
        "\n",
        "  !wget https://drive.google.com/uc?id=1B9A9UCJYMwTL4oBEo4RZfbMZMaZhKJaz\n",
        "  !gdown 1B9A9UCJYMwTL4oBEo4RZfbMZMaZhKJaz\n",
        "\n",
        "  !unzip -q /content/instance-level-human-parsing.zip -d CIHP\n",
        "\n",
        "  # Remove ATR dataset as we do not need it\n",
        "  shutil.rmtree('/content/CIHP/ICCV15_fashion_dataset(ATR)')\n",
        "\n",
        "  # Move CIHP dataset folders from tree of sub-dirs to dir \"/content/CIHP\"\n",
        "  move_all_files_and_sub_dirs('/content/CIHP/instance-level_human_parsing/instance-level_human_parsing', '/content/CIHP')\n",
        "\n",
        "  # Remove empty directories from dataset\n",
        "  shutil.rmtree('/content/CIHP/instance-level_human_parsing') "
      ]
    },
    {
      "cell_type": "code",
      "execution_count": null,
      "metadata": {
        "colab": {
          "background_save": true
        },
        "id": "aro5ahcWCBLU"
      },
      "outputs": [],
      "source": [
        "def get_files_in_dir(dir_path):\n",
        "\n",
        "  \"\"\"\n",
        "  Return a list of file names in a given directory\n",
        "  \"\"\"\n",
        "\n",
        "  if os.path.exists(dir_path):\n",
        "    files = sorted([f for f in listdir(dir_path) if isfile(join(dir_path, f))])\n",
        "    return files\n",
        "\n",
        "  else:\n",
        "    print('No such directory found: ', dir_path)"
      ]
    },
    {
      "cell_type": "code",
      "execution_count": null,
      "metadata": {
        "colab": {
          "background_save": true
        },
        "id": "_rgOR7j_Bu20"
      },
      "outputs": [],
      "source": [
        "def merge_two_list(list1, list2):\n",
        "      \n",
        "    merged_list = [(list1[i], list2[i]) for i in range(0, len(list1))]\n",
        "    return merged_list"
      ]
    },
    {
      "cell_type": "code",
      "execution_count": null,
      "metadata": {
        "colab": {
          "background_save": true
        },
        "id": "Jd53Sx-VBw7t"
      },
      "outputs": [],
      "source": [
        "def shuffle_and_ratio_data(images, masks, image_root_path, mask_root_path, dataset_ratio=1):\n",
        "\n",
        "  images_len = len(images)\n",
        "  masks_len = len(masks)\n",
        "\n",
        "  # make image and masks tuples, shuffle the data and then return given percentage of that data\n",
        "  image_mask_tuples = merge_two_list(images, masks)\n",
        "  shuffle(image_mask_tuples)\n",
        "  image_mask_tuples_per = image_mask_tuples[:int(images_len * dataset_ratio)]\n",
        "\n",
        "  images_result = [os.path.join(image_root_path, x[0]) for x in image_mask_tuples_per]\n",
        "  masks_result = [os.path.join(mask_root_path, x[1]) for x in image_mask_tuples_per]\n",
        "\n",
        "  return images_result, masks_result"
      ]
    },
    {
      "cell_type": "code",
      "execution_count": null,
      "metadata": {
        "colab": {
          "background_save": true
        },
        "id": "s0jkULaXHp16"
      },
      "outputs": [],
      "source": [
        "def get_color_map_and_labels():\n",
        "\n",
        "  # class labels\n",
        "  # background was not mentioned in readme file but its color code was present in mat file at first index\n",
        "  class_labels = [\n",
        "      \"Background\", # 0\n",
        "      \"Hat\", # 1\n",
        "      \"Hair\", # 2\n",
        "      \"Glove\", # 3\n",
        "      \"Sunglasses\", # 4 \n",
        "      \"UpperClothes\", # 5, shirt\n",
        "      \"Dress\", # 6, wore by women like formal with short+pant\n",
        "      \"Coat\", # 7\n",
        "      \"Socks\", # 8\n",
        "      \"Pants\", # 9\n",
        "      \"Torso-skin\", # 10, means neck\n",
        "      \"Scarf\", # 11\n",
        "      \"Skirt\", # 12\n",
        "      \"Face\", # 13\n",
        "      \"Left-arm\", # 14\n",
        "      \"Right-arm\", # 15\n",
        "      \"Left-leg\", # 16\n",
        "      \"Right-leg\", # 17\n",
        "      \"Left-shoe\", # 18\n",
        "      \"Right-shoe\", # 19\n",
        "  ]\n",
        "\n",
        "  # color map\n",
        "  # by default color map in given file is in bgr formate\n",
        "  color_map_array = scipy.io.loadmat('/content/CIHP/human_colormap.mat')['colormap']\n",
        "\n",
        "  bgr_color_map = np.array(color_map_array*256, dtype=np.uint8)\n",
        "\n",
        "  rgb_color_map = np.array([[i[2], i[1], i[0]] for i in bgr_color_map])\n",
        "\n",
        "  return class_labels, bgr_color_map, rgb_color_map"
      ]
    },
    {
      "cell_type": "code",
      "execution_count": null,
      "metadata": {
        "colab": {
          "background_save": true
        },
        "id": "wJwVMeLpH2Uz"
      },
      "outputs": [],
      "source": [
        "def grayscale_to_rgb(mask_grey_scale, classes, color_map):\n",
        "    h, w = mask_grey_scale.shape\n",
        "    mask_grey_scale = mask_grey_scale.astype(np.int32)\n",
        "    mask_rgb = []\n",
        "\n",
        "    # flatten the grey-scale image and map every pixel to colormap and then re-construct the rgb mask image\n",
        "    for i, px in enumerate(mask_grey_scale.flatten()):\n",
        "        mask_rgb.append(color_map[px])\n",
        "\n",
        "    mask_rgb = np.reshape(mask_rgb, (h, w, 3))\n",
        "    return mask_rgb"
      ]
    },
    {
      "cell_type": "code",
      "execution_count": null,
      "metadata": {
        "colab": {
          "background_save": true
        },
        "id": "5UY2k50qICgb"
      },
      "outputs": [],
      "source": [
        "def calculate_score_for_human_parsing_pred(pred_mask, true_mask, n_classes):\n",
        "\n",
        "  labels = [i for i in range(n_classes)]\n",
        "\n",
        "  true_mask = true_mask.flatten()\n",
        "  pred_mask = pred_mask.flatten()\n",
        "\n",
        "  f1_score_pred = f1_score(true_mask, pred_mask, labels=labels, average=None, zero_division=0)\n",
        "\n",
        "  return {'f1_score': f1_score_pred}"
      ]
    },
    {
      "cell_type": "code",
      "execution_count": null,
      "metadata": {
        "colab": {
          "background_save": true
        },
        "id": "uTfQLx4aIwQL"
      },
      "outputs": [],
      "source": [
        "def plot_and_predict_model(color_map, class_labels, model):\n",
        "\n",
        "  random_index = randrange(len(test_x)-1)\n",
        "\n",
        "  # image_path, mask_path = get_img_and_label_by_index(vton_test_dir, 16)\n",
        "\n",
        "  image_path = test_x[random_index]\n",
        "  mask_path = test_y[random_index]\n",
        "\n",
        "  # predicting the results\n",
        "  pred_mask, true_mask = pred_human_parsing(image_path, mask_path, color_map, model)\n",
        "\n",
        "\n",
        "  # calculating prediction scores \n",
        "  score = calculate_score_for_human_parsing_pred(pred_mask, true_mask, len(class_labels))\n",
        "\n",
        "  f1_score_pred = score['f1_score']\n",
        "  # remove zeros\n",
        "  f1_score_pred = f1_score_pred[f1_score_pred != 0]\n",
        "  print('f1 = ', np.mean(f1_score_pred, axis=0))\n",
        "\n",
        "\n",
        "  # ploting the results\n",
        "  fig = plt.figure(figsize=(18, 12))\n",
        "\n",
        "  plt.rc('font', size=12) \n",
        "\n",
        "\n",
        "  ax1  = fig.add_subplot(1, 4, 1,)\n",
        "  visual_x = cv2.imread(image_path)\n",
        "  ax1.imshow(visual_x)\n",
        "  ax1.set_title('Input Image %s' % str(visual_x.shape))\n",
        "\n",
        "  plt.xticks([])\n",
        "  plt.yticks([])\n",
        "\n",
        "\n",
        "  ax2 = fig.add_subplot(1, 4, 2,)\n",
        "  true_mask_rgb = cv2.imread(mask_path)\n",
        "  ax2.imshow(true_mask_rgb)\n",
        "  ax2.set_title('True RGB Mask %s' % str(true_mask_rgb.shape))\n",
        "\n",
        "  plt.xticks([])\n",
        "  plt.yticks([])\n",
        "\n",
        "\n",
        "  ax3 = fig.add_subplot(1, 4, 3,)\n",
        "  ax3.imshow(pred_mask)\n",
        "  ax3.set_title('Pred Grey-Scale Mask %s' % str(pred_mask.shape))\n",
        "\n",
        "  plt.xticks([])\n",
        "  plt.yticks([])\n",
        "\n",
        "\n",
        "  ax4 = fig.add_subplot(1, 4, 4,)\n",
        "  pred_mask_rgb = grayscale_to_rgb(pred_mask, class_labels, color_map)\n",
        "  ax4.imshow(pred_mask_rgb)\n",
        "  ax4.set_title('Pred RGB Mask %s' % str(pred_mask_rgb.shape))\n",
        "\n",
        "  plt.xticks([])\n",
        "  plt.yticks([])\n"
      ]
    },
    {
      "cell_type": "code",
      "execution_count": null,
      "metadata": {
        "colab": {
          "background_save": true
        },
        "id": "6oAkQRI8BVeo"
      },
      "outputs": [],
      "source": [
        "# UNET Model\n",
        "\n",
        "from tensorflow.keras.layers import Input, Concatenate, Conv2DTranspose, MaxPool2D, Activation, BatchNormalization, Conv2D \n",
        "\n",
        "def conv_block(input, n_filter):\n",
        "\n",
        "  x = Conv2D(filters = n_filter, kernel_size = 3, padding='same')(input)\n",
        "  x = BatchNormalization()(x)\n",
        "  x = Activation('relu')(x)\n",
        "\n",
        "  x = Conv2D(filters = n_filter, kernel_size = 3, padding='same')(input)\n",
        "  x = BatchNormalization()(x)\n",
        "  x = Activation('relu')(x)\n",
        "\n",
        "  return x\n",
        "\n",
        "def encoder_block(input, n_filter):\n",
        "\n",
        "  s = conv_block(input, n_filter)\n",
        "  p = MaxPool2D(pool_size=(2, 2))(s)\n",
        "\n",
        "  return s, p\n",
        "\n",
        "def decoder_block(input, skip_input, n_filter):\n",
        "\n",
        "  x = Conv2DTranspose(filters = n_filter, kernel_size = 2, strides=2, padding='same')(input)\n",
        "  x = Concatenate()([x, skip_input])\n",
        "  x = conv_block(x, n_filter)\n",
        "\n",
        "  return x\n",
        "\n",
        "\n",
        "def build_unet_model(input_shape = (512, 512, 3), n_classes = 20):\n",
        "\n",
        "  input = Input(shape = input_shape)\n",
        "\n",
        "  # encoding\n",
        "  s1, p1 = encoder_block(input, 64)\n",
        "  s2, p2 = encoder_block(p1, 128)\n",
        "  s3, p3 = encoder_block(p2, 256)\n",
        "  s4, p4 = encoder_block(p3, 512)\n",
        "\n",
        "  # bridging\n",
        "  b1 = conv_block(p4, 1024)\n",
        "\n",
        "  # decoding\n",
        "  d1 = decoder_block(b1, s4, 512)\n",
        "  d2 = decoder_block(d1, s3, 256)\n",
        "  d3 = decoder_block(d2, s2, 128)\n",
        "  d4 = decoder_block(d3, s1, 64)\n",
        "\n",
        "  output_layer = Conv2D(filters = n_classes, kernel_size = 1, padding='same')(d4)\n",
        "  output = Activation('softmax', dtype=tf.float32)(output_layer)\n",
        "\n",
        "  model_parsing = tf.keras.Model(inputs=input, outputs=output, name=\"human_parsing_model\")\n",
        "\n",
        "  print(model_parsing.input), print(model_parsing.output)\n",
        "\n",
        "  return model_parsing"
      ]
    },
    {
      "cell_type": "code",
      "execution_count": null,
      "metadata": {
        "colab": {
          "background_save": true
        },
        "id": "gB3d7OalIMkj"
      },
      "outputs": [],
      "source": [
        "IMG_HEIGHT = 400\n",
        "IMG_WIDTH = 480\n",
        "N_CHANNELS = 3\n",
        "\n",
        "N_CLASSES = 8\n",
        "\n",
        "BATCH_SIZE_PARSING = 16"
      ]
    },
    {
      "cell_type": "code",
      "execution_count": null,
      "metadata": {
        "colab": {
          "background_save": true
        },
        "id": "2y4mjokvIIIa"
      },
      "outputs": [],
      "source": [
        "cihp_test_dir = '/content/CIHP/Testing'\n",
        "cihp_train_dir = '/content/CIHP/Training'\n",
        "cihp_valid_dir = '/content/CIHP/Validation'"
      ]
    },
    {
      "cell_type": "code",
      "execution_count": null,
      "metadata": {
        "colab": {
          "background_save": true
        },
        "id": "bElQQ5SUBdNb",
        "outputId": "6642d1ae-62ca-4b9a-81a0-9373e4127d39"
      },
      "outputs": [
        {
          "name": "stdout",
          "output_type": "stream",
          "text": [
            "28280 28280 5000 5000 5000\n"
          ]
        }
      ],
      "source": [
        "images_train = get_files_in_dir(os.path.join(cihp_train_dir, 'Images'))\n",
        "masks_train = get_files_in_dir(os.path.join(cihp_train_dir, 'Categories'))\n",
        "\n",
        "images_valid = get_files_in_dir(os.path.join(cihp_valid_dir, 'Images'))\n",
        "masks_valid = get_files_in_dir(os.path.join(cihp_valid_dir, 'Categories'))\n",
        "\n",
        "images_test = get_files_in_dir(os.path.join(cihp_test_dir, 'Images'))\n",
        "\n",
        "print(len(images_train), len(masks_train), len(images_valid), len(masks_valid), len(images_test))"
      ]
    },
    {
      "cell_type": "code",
      "execution_count": null,
      "metadata": {
        "colab": {
          "background_save": true
        },
        "id": "cVSqqB9ZBjtj",
        "outputId": "438d25a4-d174-4eae-ea6d-11248ca12d47"
      },
      "outputs": [
        {
          "data": {
            "text/plain": [
              "(2262, 2262, 566, 566, 500, 500)"
            ]
          },
          "execution_count": 47,
          "metadata": {},
          "output_type": "execute_result"
        }
      ],
      "source": [
        "train_x, train_y = shuffle_and_ratio_data(images_train, masks_train, image_root_path='/content/CIHP/Training/Images', mask_root_path='/content/CIHP/Training/Categories', dataset_ratio=0.1)\n",
        "train_x, test_x, train_y, test_y = train_test_split(train_x, train_y, test_size=0.2, shuffle=False,)\n",
        "\n",
        "valid_x, valid_y = shuffle_and_ratio_data(images_valid, masks_valid, image_root_path='/content/CIHP/Validation/Images', mask_root_path='/content/CIHP/Validation/Categories', dataset_ratio=0.1)\n",
        "\n",
        "len(train_x), len(train_y), len(test_x), len(test_y), len(valid_x), len(valid_y)"
      ]
    },
    {
      "cell_type": "code",
      "execution_count": null,
      "metadata": {
        "colab": {
          "background_save": true
        },
        "id": "xEvlUIJzCiIM",
        "outputId": "20f8d0df-15d7-4af7-a3b3-57f03bd1a41e"
      },
      "outputs": [
        {
          "data": {
            "text/plain": [
              "(20, 20, 20)"
            ]
          },
          "execution_count": 48,
          "metadata": {},
          "output_type": "execute_result"
        }
      ],
      "source": [
        "class_labels, bgr_color_map, rgb_color_map = get_color_map_and_labels()\n",
        "\n",
        "len(class_labels), len(bgr_color_map), len(rgb_color_map)"
      ]
    },
    {
      "cell_type": "code",
      "execution_count": null,
      "metadata": {
        "colab": {
          "background_save": true
        },
        "id": "NnAu7P1rCl0k",
        "outputId": "85fe6a7c-a1fd-482c-8ce7-9c71d2762d15"
      },
      "outputs": [
        {
          "name": "stdout",
          "output_type": "stream",
          "text": [
            "[ 1  2  4 10 11  3 15  7  8 17 18 19]\n",
            "[0, 5, 6, 9, 12, 13, 14, 16]\n",
            "['Background', 'UpperClothes', 'Dress', 'Pants', 'Skirt', 'Face', 'Left-arm', 'Left-leg']\n",
            "[array([0, 0, 0], dtype=uint8), array([255,  85,   0], dtype=uint8), array([ 0,  0, 85], dtype=uint8), array([ 0, 85, 85], dtype=uint8), array([  0, 128,   0], dtype=uint8), array([  0,   0, 255], dtype=uint8), array([ 51, 170, 221], dtype=uint8), array([ 85, 255, 170], dtype=uint8)]\n",
            "[array([0, 0, 0], dtype=uint8), array([  0,  85, 255], dtype=uint8), array([85,  0,  0], dtype=uint8), array([85, 85,  0], dtype=uint8), array([  0, 128,   0], dtype=uint8), array([255,   0,   0], dtype=uint8), array([221, 170,  51], dtype=uint8), array([170, 255,  85], dtype=uint8)]\n",
            "8 8 8\n"
          ]
        }
      ],
      "source": [
        "replace_array = [[[1, 2, 4, 10, 11], 13], [[3, 15], 14], [[7], 5], [[8, 17, 18, 19], 16]]\n",
        "replaced_indexes = np.concatenate([i for i, j in replace_array])\n",
        "\n",
        "remaining_indexes = [i for i in  np.arange(20) if i not in replaced_indexes]\n",
        "\n",
        "print(replaced_indexes)\n",
        "print(remaining_indexes)\n",
        "\n",
        "merged_class_labels = []\n",
        "for i in range(len(class_labels)):\n",
        "  if i not in replaced_indexes:\n",
        "    merged_class_labels.append(class_labels[i])\n",
        "\n",
        "merged_bgr_color_map = []\n",
        "for i in range(len(bgr_color_map)):\n",
        "  if i not in replaced_indexes:\n",
        "    merged_bgr_color_map.append(bgr_color_map[i])\n",
        "\n",
        "merged_rgb_color_map = []\n",
        "for i in range(len(rgb_color_map)):\n",
        "  if i not in replaced_indexes:\n",
        "    merged_rgb_color_map.append(rgb_color_map[i])\n",
        "\n",
        "print(merged_class_labels)\n",
        "print(merged_bgr_color_map)\n",
        "print(merged_rgb_color_map)\n",
        "\n",
        "print(len(merged_class_labels), len(merged_bgr_color_map), len(merged_rgb_color_map))\n",
        "\n",
        "def merge_classes(mask_image_array):\n",
        "\n",
        "  \"\"\"\n",
        "  replace_array = [ [ [ replace_from ], replace_to] ]\n",
        "  \"\"\"\n",
        "\n",
        "  # mask_original = cv2.imread(mask_path, cv2.COLOR_BGR2RGB)\n",
        "  mask_merged = mask_image_array\n",
        "\n",
        "  for i, j in replace_array:\n",
        "    mask_merged = np.select([mask_merged == k for k in i], [j for _ in i], mask_merged)\n",
        "\n",
        "  # after merging values are from 0-19 so we make them 0-7\n",
        "  for i in remaining_indexes:\n",
        "    mask_merged = np.select([mask_merged == i], [np.where(remaining_indexes == i)], mask_merged)\n",
        "\n",
        "  return mask_merged"
      ]
    },
    {
      "cell_type": "code",
      "execution_count": null,
      "metadata": {
        "colab": {
          "background_save": true
        },
        "id": "Dm8kVbcB7vZ_",
        "outputId": "660c77d6-ca65-439c-c088-7eb44dd2402f"
      },
      "outputs": [
        {
          "data": {
            "text/plain": [
              "{0: array([0, 0, 0], dtype=uint8),\n",
              " 1: array([  0,  85, 255], dtype=uint8),\n",
              " 2: array([85,  0,  0], dtype=uint8),\n",
              " 3: array([85, 85,  0], dtype=uint8),\n",
              " 4: array([  0, 128,   0], dtype=uint8),\n",
              " 5: array([255,   0,   0], dtype=uint8),\n",
              " 6: array([221, 170,  51], dtype=uint8),\n",
              " 7: array([170, 255,  85], dtype=uint8)}"
            ]
          },
          "execution_count": 50,
          "metadata": {},
          "output_type": "execute_result"
        }
      ],
      "source": [
        " dict(zip(np.arange(8), merged_rgb_color_map))"
      ]
    },
    {
      "cell_type": "code",
      "execution_count": null,
      "metadata": {
        "colab": {
          "background_save": true
        },
        "id": "DcHrAW83I6kG",
        "outputId": "88d13b2e-d1e8-40f2-ed7c-90bfc682715e"
      },
      "outputs": [
        {
          "data": {
            "text/plain": [
              "array([1, 2, 3, 0, 4, 5, 0, 7, 0])"
            ]
          },
          "execution_count": 51,
          "metadata": {},
          "output_type": "execute_result"
        }
      ],
      "source": [
        "a = np.array([1,2,3,6,4,5,6,7,6])\n",
        "\n",
        "a = np.where(a == 6, 0, a)\n",
        "\n",
        "a"
      ]
    },
    {
      "cell_type": "code",
      "execution_count": 122,
      "metadata": {
        "id": "4WF8CbK-sQ_s"
      },
      "outputs": [],
      "source": [
        "def process_image_and_mask(image_path, mask_path, color_map, is_allow_merge = False):\n",
        "\n",
        "  image = cv2.imread(image_path)\n",
        "  image = cv2.resize(image, (IMG_WIDTH, IMG_HEIGHT)) # (W,H)\n",
        "  image = image/255. \n",
        "  image = image.astype(np.float32)\n",
        "\n",
        "  mask = cv2.imread(mask_path)\n",
        "  mask = cv2.resize(mask, (IMG_WIDTH, IMG_HEIGHT)) # (W,H)\n",
        "\n",
        "  # This will merge unwanted mask classes\n",
        "  # if is_allow_merge:\n",
        "  #   mask = merge_classes(mask_image_array = mask)\n",
        "\n",
        "  mask = merge_classes(mask_image_array = mask)\n",
        "\n",
        "  # convert merged image to gray scale and then rgb\n",
        "  mask = np.amax(mask, axis=2)\n",
        "\n",
        "  # change mask with gray scale values to rgb\n",
        "  mask = np.expand_dims(mask, axis=-1)\n",
        "  for i in range(len(merged_rgb_color_map)):\n",
        "    mask = np.where(mask == i, merged_rgb_color_map[i], mask)\n",
        "\n",
        "  # mask normalization is different from simply /255, below we are doing mask normalization, it is one-hot encoding in our case\n",
        "  mask_objects = []\n",
        "  for color in color_map:\n",
        "    # we are setting cmap (binary mask) values to true where ever the color maches the color on mask\n",
        "    # in this way we will get 20 images each of which shows an object, for every mask image\n",
        "    # and we are doing this for all pixels\n",
        "    cmap = np.all(np.equal(mask, color), axis=-1)\n",
        "    mask_objects.append(cmap)\n",
        "\n",
        "  # stack adds a new dimension to the array and stacks all images into a single array\n",
        "  # it makes 20 images of (400, 480) into an array of (400, 480, 20)\n",
        "  # (400, 480, 20) => this gives one-hot encoding where out of 20 items in the array any one is 1 which shows class value\n",
        "  # we are doing this one-hot encoding thing beacuse this gives good results for training\n",
        "  mask_stack = np.stack(mask_objects, axis=-1)\n",
        "  mask_stack = mask_stack.astype(np.uint8)\n",
        "\n",
        "  # print(mask_stack)\n",
        "\n",
        "  return image, mask, mask_stack"
      ]
    },
    {
      "cell_type": "code",
      "execution_count": 123,
      "metadata": {
        "colab": {
          "base_uri": "https://localhost:8080/",
          "height": 265
        },
        "id": "DK_sr8Q8sWBb",
        "outputId": "6c7f0d1a-7072-43d6-e5fe-483d7c8bcb75"
      },
      "outputs": [
        {
          "output_type": "stream",
          "name": "stdout",
          "text": [
            "image serial:  75\n",
            "shape 1: (400, 480, 8)\n"
          ]
        },
        {
          "output_type": "execute_result",
          "data": {
            "text/plain": [
              "([], <a list of 0 Text major ticklabel objects>)"
            ]
          },
          "metadata": {},
          "execution_count": 123
        },
        {
          "output_type": "display_data",
          "data": {
            "text/plain": [
              "<Figure size 1152x864 with 4 Axes>"
            ],
            "image/png": "[encoded data removed]"
          },
          "metadata": {}
        }
      ],
      "source": [
        "random_index = randrange(100)\n",
        "random_index = 75\n",
        "\n",
        "print('image serial: ', random_index)\n",
        "\n",
        "image_path = get_file_paths_at_index('/content/CIHP/Validation/Images', random_index)[0]\n",
        "mask_path = get_file_paths_at_index('/content/CIHP/Validation/Category_ids', random_index)[0]\n",
        "\n",
        "mask_original = cv2.imread(mask_path, cv2.COLOR_BGR2RGB)\n",
        "\n",
        "image, mask, mask_stack = process_image_and_mask(image_path, mask_path, merged_rgb_color_map, is_allow_merge=True)\n",
        "\n",
        "print('shape 1:', mask_stack.shape)\n",
        "\n",
        "\n",
        "fig = plt.figure(figsize=(16, 12))\n",
        "plt.rc('font', size=15)\n",
        "\n",
        "fig.add_subplot(1, 4, 1)\n",
        "  \n",
        "plt.imshow(image)\n",
        "plt.title('Original Image', fontdict={'fontsize': 14})\n",
        "\n",
        "plt.xticks([])\n",
        "plt.yticks([])\n",
        "\n",
        "fig.add_subplot(1, 4, 2)\n",
        "\n",
        "plt.imshow(mask_original)\n",
        "plt.title('Original Mask', fontdict={'fontsize': 14})\n",
        "\n",
        "plt.xticks([])\n",
        "plt.yticks([])\n",
        "\n",
        "fig.add_subplot(1, 4, 3)\n",
        "\n",
        "plt.imshow(mask)\n",
        "plt.title('Merged Mask', fontdict={'fontsize': 14})\n",
        "\n",
        "plt.xticks([])\n",
        "plt.yticks([])\n",
        "\n",
        "# print(mask_stack[0][0])\n",
        "\n",
        "fig.add_subplot(1, 4, 4)\n",
        "\n",
        "mask_stack = np.argmax(mask_stack, axis=-1)\n",
        "mask_stack = mask_stack.astype(np.float32)\n",
        "\n",
        "plt.imshow(mask_stack)\n",
        "plt.title('Stack Mask', fontdict={'fontsize': 14})\n",
        "\n",
        "plt.xticks([])\n",
        "plt.yticks([])"
      ]
    },
    {
      "cell_type": "code",
      "execution_count": 128,
      "metadata": {
        "id": "-cK36Z6mDhuF"
      },
      "outputs": [],
      "source": [
        "# we have to create this function for piplining, beacuse when we want to read (decode) tensor object we have to do this in an intermediate function\n",
        "\n",
        "def preprocess(x, y):\n",
        "    def f(x, y):\n",
        "        x = x.decode()\n",
        "        y = y.decode()\n",
        "        image, _, mask_stack = process_image_and_mask(x, y, color_map = merged_rgb_color_map, is_allow_merge = True)\n",
        "        return image, mask_stack\n",
        "\n",
        "    image, mask_stack = tf.numpy_function(f, [x, y], [tf.float32, tf.uint8])\n",
        "    image.set_shape([IMG_HEIGHT, IMG_WIDTH, N_CHANNELS])\n",
        "    mask_stack.set_shape([IMG_HEIGHT, IMG_WIDTH, N_CLASSES])\n",
        "\n",
        "    return image, mask_stack"
      ]
    },
    {
      "cell_type": "code",
      "execution_count": 129,
      "metadata": {
        "id": "29vG9dzlDkL7"
      },
      "outputs": [],
      "source": [
        "# create the pipeline\n",
        "\n",
        "def tf_dataset(image_paths, mask_paths, batch_size=32):\n",
        "\n",
        "  return tf.data.Dataset.from_tensor_slices((image_paths, mask_paths)).map(preprocess, num_parallel_calls=tf.data.AUTOTUNE).batch(batch_size).prefetch(tf.data.AUTOTUNE)"
      ]
    },
    {
      "cell_type": "code",
      "execution_count": 130,
      "metadata": {
        "colab": {
          "base_uri": "https://localhost:8080/"
        },
        "id": "4sikkOznDmTD",
        "outputId": "9b362e80-5cec-4db8-eae9-fb68b0bec1e2"
      },
      "outputs": [
        {
          "output_type": "execute_result",
          "data": {
            "text/plain": [
              "(<PrefetchDataset element_spec=(TensorSpec(shape=(None, 400, 480, 3), dtype=tf.float32, name=None), TensorSpec(shape=(None, 400, 480, 8), dtype=tf.uint8, name=None))>,\n",
              " <PrefetchDataset element_spec=(TensorSpec(shape=(None, 400, 480, 3), dtype=tf.float32, name=None), TensorSpec(shape=(None, 400, 480, 8), dtype=tf.uint8, name=None))>,\n",
              " <PrefetchDataset element_spec=(TensorSpec(shape=(None, 400, 480, 3), dtype=tf.float32, name=None), TensorSpec(shape=(None, 400, 480, 8), dtype=tf.uint8, name=None))>)"
            ]
          },
          "metadata": {},
          "execution_count": 130
        }
      ],
      "source": [
        "train_data_1 = tf_dataset(train_x, train_y, batch_size=BATCH_SIZE_PARSING)\n",
        "valid_data_1 = tf_dataset(valid_x, valid_y, batch_size=BATCH_SIZE_PARSING)\n",
        "test_data_1 = tf_dataset(test_x, test_y, batch_size=BATCH_SIZE_PARSING)\n",
        "\n",
        "train_data_1, valid_data_1, test_data_1"
      ]
    },
    {
      "cell_type": "code",
      "execution_count": 150,
      "metadata": {
        "colab": {
          "base_uri": "https://localhost:8080/",
          "height": 678
        },
        "id": "X_eNSaULmiXb",
        "outputId": "97a53c1c-886f-42cc-e2bd-1e770d849f15"
      },
      "outputs": [
        {
          "output_type": "stream",
          "name": "stdout",
          "text": [
            "[['/content/CIHP/Validation/Images/0000870.jpg'], ['/content/CIHP/Validation/Images/0000821.jpg']] [['/content/CIHP/Validation/Category_ids/0000870.png'], ['/content/CIHP/Validation/Category_ids/0000821.png']]\n"
          ]
        },
        {
          "output_type": "error",
          "ename": "UnknownError",
          "evalue": "ignored",
          "traceback": [
            "\u001b[0;31m---------------------------------------------------------------------------\u001b[0m",
            "\u001b[0;31mUnknownError\u001b[0m                              Traceback (most recent call last)",
            "\u001b[0;32m<ipython-input-150-48d8251d2773>\u001b[0m in \u001b[0;36m<module>\u001b[0;34m\u001b[0m\n\u001b[1;32m      8\u001b[0m \u001b[0mtest_x\u001b[0m \u001b[0;34m=\u001b[0m \u001b[0mtf_dataset\u001b[0m\u001b[0;34m(\u001b[0m\u001b[0mimage_path\u001b[0m\u001b[0;34m,\u001b[0m \u001b[0mmask_path\u001b[0m\u001b[0;34m,\u001b[0m \u001b[0mbatch_size\u001b[0m\u001b[0;34m=\u001b[0m\u001b[0;36m2\u001b[0m\u001b[0;34m)\u001b[0m\u001b[0;34m\u001b[0m\u001b[0;34m\u001b[0m\u001b[0m\n\u001b[1;32m      9\u001b[0m \u001b[0;34m\u001b[0m\u001b[0m\n\u001b[0;32m---> 10\u001b[0;31m \u001b[0;32mfor\u001b[0m \u001b[0mx\u001b[0m\u001b[0;34m,\u001b[0m \u001b[0my\u001b[0m \u001b[0;32min\u001b[0m \u001b[0mtest_x\u001b[0m\u001b[0;34m:\u001b[0m\u001b[0;34m\u001b[0m\u001b[0;34m\u001b[0m\u001b[0m\n\u001b[0m\u001b[1;32m     11\u001b[0m \u001b[0;34m\u001b[0m\u001b[0m\n\u001b[1;32m     12\u001b[0m   \u001b[0mx\u001b[0m \u001b[0;34m=\u001b[0m \u001b[0mx\u001b[0m\u001b[0;34m.\u001b[0m\u001b[0mdecode\u001b[0m\u001b[0;34m(\u001b[0m\u001b[0;34m)\u001b[0m\u001b[0;34m\u001b[0m\u001b[0;34m\u001b[0m\u001b[0m\n",
            "\u001b[0;32m/usr/local/lib/python3.8/dist-packages/tensorflow/python/data/ops/iterator_ops.py\u001b[0m in \u001b[0;36m__next__\u001b[0;34m(self)\u001b[0m\n\u001b[1;32m    764\u001b[0m   \u001b[0;32mdef\u001b[0m \u001b[0m__next__\u001b[0m\u001b[0;34m(\u001b[0m\u001b[0mself\u001b[0m\u001b[0;34m)\u001b[0m\u001b[0;34m:\u001b[0m\u001b[0;34m\u001b[0m\u001b[0;34m\u001b[0m\u001b[0m\n\u001b[1;32m    765\u001b[0m     \u001b[0;32mtry\u001b[0m\u001b[0;34m:\u001b[0m\u001b[0;34m\u001b[0m\u001b[0;34m\u001b[0m\u001b[0m\n\u001b[0;32m--> 766\u001b[0;31m       \u001b[0;32mreturn\u001b[0m \u001b[0mself\u001b[0m\u001b[0;34m.\u001b[0m\u001b[0m_next_internal\u001b[0m\u001b[0;34m(\u001b[0m\u001b[0;34m)\u001b[0m\u001b[0;34m\u001b[0m\u001b[0;34m\u001b[0m\u001b[0m\n\u001b[0m\u001b[1;32m    767\u001b[0m     \u001b[0;32mexcept\u001b[0m \u001b[0merrors\u001b[0m\u001b[0;34m.\u001b[0m\u001b[0mOutOfRangeError\u001b[0m\u001b[0;34m:\u001b[0m\u001b[0;34m\u001b[0m\u001b[0;34m\u001b[0m\u001b[0m\n\u001b[1;32m    768\u001b[0m       \u001b[0;32mraise\u001b[0m \u001b[0mStopIteration\u001b[0m\u001b[0;34m\u001b[0m\u001b[0;34m\u001b[0m\u001b[0m\n",
            "\u001b[0;32m/usr/local/lib/python3.8/dist-packages/tensorflow/python/data/ops/iterator_ops.py\u001b[0m in \u001b[0;36m_next_internal\u001b[0;34m(self)\u001b[0m\n\u001b[1;32m    747\u001b[0m     \u001b[0;31m# to communicate that there is no more data to iterate over.\u001b[0m\u001b[0;34m\u001b[0m\u001b[0;34m\u001b[0m\u001b[0;34m\u001b[0m\u001b[0m\n\u001b[1;32m    748\u001b[0m     \u001b[0;32mwith\u001b[0m \u001b[0mcontext\u001b[0m\u001b[0;34m.\u001b[0m\u001b[0mexecution_mode\u001b[0m\u001b[0;34m(\u001b[0m\u001b[0mcontext\u001b[0m\u001b[0;34m.\u001b[0m\u001b[0mSYNC\u001b[0m\u001b[0;34m)\u001b[0m\u001b[0;34m:\u001b[0m\u001b[0;34m\u001b[0m\u001b[0;34m\u001b[0m\u001b[0m\n\u001b[0;32m--> 749\u001b[0;31m       ret = gen_dataset_ops.iterator_get_next(\n\u001b[0m\u001b[1;32m    750\u001b[0m           \u001b[0mself\u001b[0m\u001b[0;34m.\u001b[0m\u001b[0m_iterator_resource\u001b[0m\u001b[0;34m,\u001b[0m\u001b[0;34m\u001b[0m\u001b[0;34m\u001b[0m\u001b[0m\n\u001b[1;32m    751\u001b[0m           \u001b[0moutput_types\u001b[0m\u001b[0;34m=\u001b[0m\u001b[0mself\u001b[0m\u001b[0;34m.\u001b[0m\u001b[0m_flat_output_types\u001b[0m\u001b[0;34m,\u001b[0m\u001b[0;34m\u001b[0m\u001b[0;34m\u001b[0m\u001b[0m\n",
            "\u001b[0;32m/usr/local/lib/python3.8/dist-packages/tensorflow/python/ops/gen_dataset_ops.py\u001b[0m in \u001b[0;36miterator_get_next\u001b[0;34m(iterator, output_types, output_shapes, name)\u001b[0m\n\u001b[1;32m   3015\u001b[0m       \u001b[0;32mreturn\u001b[0m \u001b[0m_result\u001b[0m\u001b[0;34m\u001b[0m\u001b[0;34m\u001b[0m\u001b[0m\n\u001b[1;32m   3016\u001b[0m     \u001b[0;32mexcept\u001b[0m \u001b[0m_core\u001b[0m\u001b[0;34m.\u001b[0m\u001b[0m_NotOkStatusException\u001b[0m \u001b[0;32mas\u001b[0m \u001b[0me\u001b[0m\u001b[0;34m:\u001b[0m\u001b[0;34m\u001b[0m\u001b[0;34m\u001b[0m\u001b[0m\n\u001b[0;32m-> 3017\u001b[0;31m       \u001b[0m_ops\u001b[0m\u001b[0;34m.\u001b[0m\u001b[0mraise_from_not_ok_status\u001b[0m\u001b[0;34m(\u001b[0m\u001b[0me\u001b[0m\u001b[0;34m,\u001b[0m \u001b[0mname\u001b[0m\u001b[0;34m)\u001b[0m\u001b[0;34m\u001b[0m\u001b[0;34m\u001b[0m\u001b[0m\n\u001b[0m\u001b[1;32m   3018\u001b[0m     \u001b[0;32mexcept\u001b[0m \u001b[0m_core\u001b[0m\u001b[0;34m.\u001b[0m\u001b[0m_FallbackException\u001b[0m\u001b[0;34m:\u001b[0m\u001b[0;34m\u001b[0m\u001b[0;34m\u001b[0m\u001b[0m\n\u001b[1;32m   3019\u001b[0m       \u001b[0;32mpass\u001b[0m\u001b[0;34m\u001b[0m\u001b[0;34m\u001b[0m\u001b[0m\n",
            "\u001b[0;32m/usr/local/lib/python3.8/dist-packages/tensorflow/python/framework/ops.py\u001b[0m in \u001b[0;36mraise_from_not_ok_status\u001b[0;34m(e, name)\u001b[0m\n\u001b[1;32m   7162\u001b[0m \u001b[0;32mdef\u001b[0m \u001b[0mraise_from_not_ok_status\u001b[0m\u001b[0;34m(\u001b[0m\u001b[0me\u001b[0m\u001b[0;34m,\u001b[0m \u001b[0mname\u001b[0m\u001b[0;34m)\u001b[0m\u001b[0;34m:\u001b[0m\u001b[0;34m\u001b[0m\u001b[0;34m\u001b[0m\u001b[0m\n\u001b[1;32m   7163\u001b[0m   \u001b[0me\u001b[0m\u001b[0;34m.\u001b[0m\u001b[0mmessage\u001b[0m \u001b[0;34m+=\u001b[0m \u001b[0;34m(\u001b[0m\u001b[0;34m\" name: \"\u001b[0m \u001b[0;34m+\u001b[0m \u001b[0mname\u001b[0m \u001b[0;32mif\u001b[0m \u001b[0mname\u001b[0m \u001b[0;32mis\u001b[0m \u001b[0;32mnot\u001b[0m \u001b[0;32mNone\u001b[0m \u001b[0;32melse\u001b[0m \u001b[0;34m\"\"\u001b[0m\u001b[0;34m)\u001b[0m\u001b[0;34m\u001b[0m\u001b[0;34m\u001b[0m\u001b[0m\n\u001b[0;32m-> 7164\u001b[0;31m   \u001b[0;32mraise\u001b[0m \u001b[0mcore\u001b[0m\u001b[0;34m.\u001b[0m\u001b[0m_status_to_exception\u001b[0m\u001b[0;34m(\u001b[0m\u001b[0me\u001b[0m\u001b[0;34m)\u001b[0m \u001b[0;32mfrom\u001b[0m \u001b[0;32mNone\u001b[0m  \u001b[0;31m# pylint: disable=protected-access\u001b[0m\u001b[0;34m\u001b[0m\u001b[0;34m\u001b[0m\u001b[0m\n\u001b[0m\u001b[1;32m   7165\u001b[0m \u001b[0;34m\u001b[0m\u001b[0m\n\u001b[1;32m   7166\u001b[0m \u001b[0;34m\u001b[0m\u001b[0m\n",
            "\u001b[0;31mUnknownError\u001b[0m: AttributeError: 'numpy.ndarray' object has no attribute 'decode'\nTraceback (most recent call last):\n\n  File \"/usr/local/lib/python3.8/dist-packages/tensorflow/python/ops/script_ops.py\", line 270, in __call__\n    ret = func(*args)\n\n  File \"/usr/local/lib/python3.8/dist-packages/tensorflow/python/autograph/impl/api.py\", line 642, in wrapper\n    return func(*args, **kwargs)\n\n  File \"/tmp/__autograph_generated_fileop65g_wq.py\", line 16, in f\n    x = ag__.converted_call(ag__.ld(x).decode, (), None, fscope_1)\n\nAttributeError: 'numpy.ndarray' object has no attribute 'decode'\n\n\n\t [[{{node PyFunc}}]] [Op:IteratorGetNext]"
          ]
        }
      ],
      "source": [
        "# x, y = test_data_1.take(5)\n",
        "\n",
        "image_path = [get_file_paths_at_index('/content/CIHP/Validation/Images', 75), get_file_paths_at_index('/content/CIHP/Validation/Images', 70)]\n",
        "mask_path = [get_file_paths_at_index('/content/CIHP/Validation/Category_ids', 75), get_file_paths_at_index('/content/CIHP/Validation/Category_ids', 70)]\n",
        "\n",
        "print(image_path, mask_path)\n",
        "\n",
        "test_x = tf_dataset(image_path, mask_path, batch_size=2)\n",
        "\n",
        "for x, y in test_x:\n",
        "\n",
        "  x = x.decode()\n",
        "  y = y.decode()\n",
        "\n",
        "  fig = plt.figure(figsize=(16, 12))\n",
        "  plt.rc('font', size=15)\n",
        "\n",
        "  fig.add_subplot(1, 2, 1)\n",
        "  \n",
        "  plt.imshow(x[0])\n",
        "  plt.title('Original Image', fontdict={'fontsize': 14})\n",
        "\n",
        "  plt.xticks([])\n",
        "  plt.yticks([])\n",
        "\n",
        "  fig.add_subplot(1, 2, 2)\n",
        "\n",
        "  mask = np.argmax(y[0], axis=-1)\n",
        "  mask = mask.astype(np.float32)\n",
        "\n",
        "  plt.imshow(mask)\n",
        "  plt.title('Merged Mask', fontdict={'fontsize': 14})\n",
        "\n",
        "  plt.xticks([])\n",
        "  plt.yticks([])\n",
        "\n",
        "  print(y[0].shape)\n",
        "\n",
        "  break"
      ]
    },
    {
      "cell_type": "code",
      "execution_count": null,
      "metadata": {
        "colab": {
          "background_save": true
        },
        "id": "4VsrEU4MDyiT"
      },
      "outputs": [],
      "source": [
        "# for x, y in valid_data_1.take(1):\n",
        "\n",
        "#   pred_mask = np.argmax(y[2], axis=-1)\n",
        "#   pred_mask = pred_mask.astype(np.float32)\n",
        "\n",
        "#   fig = plt.figure(figsize=(12, 8))\n",
        "\n",
        "#   fig.add_subplot(1, 2, 1)\n",
        "#   plt.imshow(x[0])\n",
        "\n",
        "#   fig.add_subplot(1, 2, 2)\n",
        "#   plt.imshow(pred_mask)\n",
        "\n",
        "#   print(x[2], y[2])\n",
        "\n",
        "#   break"
      ]
    },
    {
      "cell_type": "code",
      "execution_count": null,
      "metadata": {
        "colab": {
          "background_save": true
        },
        "id": "5hUGLE19DRID"
      },
      "outputs": [],
      "source": [
        "def pred_human_parsing(image_path, mask_path, color_map, model):\n",
        "\n",
        "  image,_ , mask_stack = process_image_and_mask(image_path, mask_path, color_map = color_map)\n",
        "\n",
        "  # visualize_process_image_and_mask(image, mask_stack)\n",
        "\n",
        "  # make image ready for prediction, we are doing this because for prediciton our data must be inside an array\n",
        "  image = np.expand_dims(image, axis=0)\n",
        "\n",
        "  # make mask ready for prediction, this will convery on-hot encoded mask back to grey scale image with values 0-19\n",
        "  mask_onehot = np.argmax(mask_stack, axis=-1)\n",
        "  mask_onehot = mask_onehot.astype(np.int32)\n",
        "\n",
        "  true_mask = mask_onehot\n",
        "\n",
        "  # make prediction and convert one-hot encoded result to image grey scale 0-19\n",
        "  pred_mask = model.predict(image, verbose=0)[0]\n",
        "  pred_mask = np.argmax(pred_mask, axis=-1)\n",
        "  pred_mask = pred_mask.astype(np.float32)\n",
        "\n",
        "  return pred_mask, true_mask"
      ]
    },
    {
      "cell_type": "code",
      "execution_count": 151,
      "metadata": {
        "colab": {
          "base_uri": "https://localhost:8080/",
          "height": 1000
        },
        "id": "6zg6ALAAD1nT",
        "outputId": "cfec9003-e433-41b7-a3a8-077ee1596185"
      },
      "outputs": [
        {
          "output_type": "stream",
          "name": "stdout",
          "text": [
            "KerasTensor(type_spec=TensorSpec(shape=(None, 400, 480, 3), dtype=tf.float32, name='input_1'), name='input_1', description=\"created by layer 'input_1'\")\n",
            "KerasTensor(type_spec=TensorSpec(shape=(None, 400, 480, 8), dtype=tf.float32, name=None), name='activation_18/Softmax:0', description=\"created by layer 'activation_18'\")\n",
            "Model: \"human_parsing_model\"\n",
            "__________________________________________________________________________________________________\n",
            " Layer (type)                   Output Shape         Param #     Connected to                     \n",
            "==================================================================================================\n",
            " input_1 (InputLayer)           [(None, 400, 480, 3  0           []                               \n",
            "                                )]                                                                \n",
            "                                                                                                  \n",
            " conv2d_1 (Conv2D)              (None, 400, 480, 64  1792        ['input_1[0][0]']                \n",
            "                                )                                                                 \n",
            "                                                                                                  \n",
            " batch_normalization_1 (BatchNo  (None, 400, 480, 64  256        ['conv2d_1[0][0]']               \n",
            " rmalization)                   )                                                                 \n",
            "                                                                                                  \n",
            " activation_1 (Activation)      (None, 400, 480, 64  0           ['batch_normalization_1[0][0]']  \n",
            "                                )                                                                 \n",
            "                                                                                                  \n",
            " max_pooling2d (MaxPooling2D)   (None, 200, 240, 64  0           ['activation_1[0][0]']           \n",
            "                                )                                                                 \n",
            "                                                                                                  \n",
            " conv2d_3 (Conv2D)              (None, 200, 240, 12  73856       ['max_pooling2d[0][0]']          \n",
            "                                8)                                                                \n",
            "                                                                                                  \n",
            " batch_normalization_3 (BatchNo  (None, 200, 240, 12  512        ['conv2d_3[0][0]']               \n",
            " rmalization)                   8)                                                                \n",
            "                                                                                                  \n",
            " activation_3 (Activation)      (None, 200, 240, 12  0           ['batch_normalization_3[0][0]']  \n",
            "                                8)                                                                \n",
            "                                                                                                  \n",
            " max_pooling2d_1 (MaxPooling2D)  (None, 100, 120, 12  0          ['activation_3[0][0]']           \n",
            "                                8)                                                                \n",
            "                                                                                                  \n",
            " conv2d_5 (Conv2D)              (None, 100, 120, 25  295168      ['max_pooling2d_1[0][0]']        \n",
            "                                6)                                                                \n",
            "                                                                                                  \n",
            " batch_normalization_5 (BatchNo  (None, 100, 120, 25  1024       ['conv2d_5[0][0]']               \n",
            " rmalization)                   6)                                                                \n",
            "                                                                                                  \n",
            " activation_5 (Activation)      (None, 100, 120, 25  0           ['batch_normalization_5[0][0]']  \n",
            "                                6)                                                                \n",
            "                                                                                                  \n",
            " max_pooling2d_2 (MaxPooling2D)  (None, 50, 60, 256)  0          ['activation_5[0][0]']           \n",
            "                                                                                                  \n",
            " conv2d_7 (Conv2D)              (None, 50, 60, 512)  1180160     ['max_pooling2d_2[0][0]']        \n",
            "                                                                                                  \n",
            " batch_normalization_7 (BatchNo  (None, 50, 60, 512)  2048       ['conv2d_7[0][0]']               \n",
            " rmalization)                                                                                     \n",
            "                                                                                                  \n",
            " activation_7 (Activation)      (None, 50, 60, 512)  0           ['batch_normalization_7[0][0]']  \n",
            "                                                                                                  \n",
            " max_pooling2d_3 (MaxPooling2D)  (None, 25, 30, 512)  0          ['activation_7[0][0]']           \n",
            "                                                                                                  \n",
            " conv2d_9 (Conv2D)              (None, 25, 30, 1024  4719616     ['max_pooling2d_3[0][0]']        \n",
            "                                )                                                                 \n",
            "                                                                                                  \n",
            " batch_normalization_9 (BatchNo  (None, 25, 30, 1024  4096       ['conv2d_9[0][0]']               \n",
            " rmalization)                   )                                                                 \n",
            "                                                                                                  \n",
            " activation_9 (Activation)      (None, 25, 30, 1024  0           ['batch_normalization_9[0][0]']  \n",
            "                                )                                                                 \n",
            "                                                                                                  \n",
            " conv2d_transpose (Conv2DTransp  (None, 50, 60, 512)  2097664    ['activation_9[0][0]']           \n",
            " ose)                                                                                             \n",
            "                                                                                                  \n",
            " concatenate (Concatenate)      (None, 50, 60, 1024  0           ['conv2d_transpose[0][0]',       \n",
            "                                )                                 'activation_7[0][0]']           \n",
            "                                                                                                  \n",
            " conv2d_11 (Conv2D)             (None, 50, 60, 512)  4719104     ['concatenate[0][0]']            \n",
            "                                                                                                  \n",
            " batch_normalization_11 (BatchN  (None, 50, 60, 512)  2048       ['conv2d_11[0][0]']              \n",
            " ormalization)                                                                                    \n",
            "                                                                                                  \n",
            " activation_11 (Activation)     (None, 50, 60, 512)  0           ['batch_normalization_11[0][0]'] \n",
            "                                                                                                  \n",
            " conv2d_transpose_1 (Conv2DTran  (None, 100, 120, 25  524544     ['activation_11[0][0]']          \n",
            " spose)                         6)                                                                \n",
            "                                                                                                  \n",
            " concatenate_1 (Concatenate)    (None, 100, 120, 51  0           ['conv2d_transpose_1[0][0]',     \n",
            "                                2)                                'activation_5[0][0]']           \n",
            "                                                                                                  \n",
            " conv2d_13 (Conv2D)             (None, 100, 120, 25  1179904     ['concatenate_1[0][0]']          \n",
            "                                6)                                                                \n",
            "                                                                                                  \n",
            " batch_normalization_13 (BatchN  (None, 100, 120, 25  1024       ['conv2d_13[0][0]']              \n",
            " ormalization)                  6)                                                                \n",
            "                                                                                                  \n",
            " activation_13 (Activation)     (None, 100, 120, 25  0           ['batch_normalization_13[0][0]'] \n",
            "                                6)                                                                \n",
            "                                                                                                  \n",
            " conv2d_transpose_2 (Conv2DTran  (None, 200, 240, 12  131200     ['activation_13[0][0]']          \n",
            " spose)                         8)                                                                \n",
            "                                                                                                  \n",
            " concatenate_2 (Concatenate)    (None, 200, 240, 25  0           ['conv2d_transpose_2[0][0]',     \n",
            "                                6)                                'activation_3[0][0]']           \n",
            "                                                                                                  \n",
            " conv2d_15 (Conv2D)             (None, 200, 240, 12  295040      ['concatenate_2[0][0]']          \n",
            "                                8)                                                                \n",
            "                                                                                                  \n",
            " batch_normalization_15 (BatchN  (None, 200, 240, 12  512        ['conv2d_15[0][0]']              \n",
            " ormalization)                  8)                                                                \n",
            "                                                                                                  \n",
            " activation_15 (Activation)     (None, 200, 240, 12  0           ['batch_normalization_15[0][0]'] \n",
            "                                8)                                                                \n",
            "                                                                                                  \n",
            " conv2d_transpose_3 (Conv2DTran  (None, 400, 480, 64  32832      ['activation_15[0][0]']          \n",
            " spose)                         )                                                                 \n",
            "                                                                                                  \n",
            " concatenate_3 (Concatenate)    (None, 400, 480, 12  0           ['conv2d_transpose_3[0][0]',     \n",
            "                                8)                                'activation_1[0][0]']           \n",
            "                                                                                                  \n",
            " conv2d_17 (Conv2D)             (None, 400, 480, 64  73792       ['concatenate_3[0][0]']          \n",
            "                                )                                                                 \n",
            "                                                                                                  \n",
            " batch_normalization_17 (BatchN  (None, 400, 480, 64  256        ['conv2d_17[0][0]']              \n",
            " ormalization)                  )                                                                 \n",
            "                                                                                                  \n",
            " activation_17 (Activation)     (None, 400, 480, 64  0           ['batch_normalization_17[0][0]'] \n",
            "                                )                                                                 \n",
            "                                                                                                  \n",
            " conv2d_18 (Conv2D)             (None, 400, 480, 8)  520         ['activation_17[0][0]']          \n",
            "                                                                                                  \n",
            " activation_18 (Activation)     (None, 400, 480, 8)  0           ['conv2d_18[0][0]']              \n",
            "                                                                                                  \n",
            "==================================================================================================\n",
            "Total params: 15,336,968\n",
            "Trainable params: 15,331,080\n",
            "Non-trainable params: 5,888\n",
            "__________________________________________________________________________________________________\n"
          ]
        },
        {
          "output_type": "error",
          "ename": "OSError",
          "evalue": "ignored",
          "traceback": [
            "\u001b[0;31m---------------------------------------------------------------------------\u001b[0m",
            "\u001b[0;31mOSError\u001b[0m                                   Traceback (most recent call last)",
            "\u001b[0;32m<timed exec>\u001b[0m in \u001b[0;36m<module>\u001b[0;34m\u001b[0m\n",
            "\u001b[0;32m/usr/local/lib/python3.8/dist-packages/keras/utils/traceback_utils.py\u001b[0m in \u001b[0;36merror_handler\u001b[0;34m(*args, **kwargs)\u001b[0m\n\u001b[1;32m     65\u001b[0m     \u001b[0;32mexcept\u001b[0m \u001b[0mException\u001b[0m \u001b[0;32mas\u001b[0m \u001b[0me\u001b[0m\u001b[0;34m:\u001b[0m  \u001b[0;31m# pylint: disable=broad-except\u001b[0m\u001b[0;34m\u001b[0m\u001b[0;34m\u001b[0m\u001b[0m\n\u001b[1;32m     66\u001b[0m       \u001b[0mfiltered_tb\u001b[0m \u001b[0;34m=\u001b[0m \u001b[0m_process_traceback_frames\u001b[0m\u001b[0;34m(\u001b[0m\u001b[0me\u001b[0m\u001b[0;34m.\u001b[0m\u001b[0m__traceback__\u001b[0m\u001b[0;34m)\u001b[0m\u001b[0;34m\u001b[0m\u001b[0;34m\u001b[0m\u001b[0m\n\u001b[0;32m---> 67\u001b[0;31m       \u001b[0;32mraise\u001b[0m \u001b[0me\u001b[0m\u001b[0;34m.\u001b[0m\u001b[0mwith_traceback\u001b[0m\u001b[0;34m(\u001b[0m\u001b[0mfiltered_tb\u001b[0m\u001b[0;34m)\u001b[0m \u001b[0;32mfrom\u001b[0m \u001b[0;32mNone\u001b[0m\u001b[0;34m\u001b[0m\u001b[0;34m\u001b[0m\u001b[0m\n\u001b[0m\u001b[1;32m     68\u001b[0m     \u001b[0;32mfinally\u001b[0m\u001b[0;34m:\u001b[0m\u001b[0;34m\u001b[0m\u001b[0;34m\u001b[0m\u001b[0m\n\u001b[1;32m     69\u001b[0m       \u001b[0;32mdel\u001b[0m \u001b[0mfiltered_tb\u001b[0m\u001b[0;34m\u001b[0m\u001b[0;34m\u001b[0m\u001b[0m\n",
            "\u001b[0;32m/usr/local/lib/python3.8/dist-packages/keras/saving/save.py\u001b[0m in \u001b[0;36mload_model\u001b[0;34m(filepath, custom_objects, compile, options)\u001b[0m\n\u001b[1;32m    204\u001b[0m         \u001b[0;32mif\u001b[0m \u001b[0misinstance\u001b[0m\u001b[0;34m(\u001b[0m\u001b[0mfilepath_str\u001b[0m\u001b[0;34m,\u001b[0m \u001b[0mstr\u001b[0m\u001b[0;34m)\u001b[0m\u001b[0;34m:\u001b[0m\u001b[0;34m\u001b[0m\u001b[0;34m\u001b[0m\u001b[0m\n\u001b[1;32m    205\u001b[0m           \u001b[0;32mif\u001b[0m \u001b[0;32mnot\u001b[0m \u001b[0mtf\u001b[0m\u001b[0;34m.\u001b[0m\u001b[0mio\u001b[0m\u001b[0;34m.\u001b[0m\u001b[0mgfile\u001b[0m\u001b[0;34m.\u001b[0m\u001b[0mexists\u001b[0m\u001b[0;34m(\u001b[0m\u001b[0mfilepath_str\u001b[0m\u001b[0;34m)\u001b[0m\u001b[0;34m:\u001b[0m\u001b[0;34m\u001b[0m\u001b[0;34m\u001b[0m\u001b[0m\n\u001b[0;32m--> 206\u001b[0;31m             \u001b[0;32mraise\u001b[0m \u001b[0mIOError\u001b[0m\u001b[0;34m(\u001b[0m\u001b[0;34mf'No file or directory found at {filepath_str}'\u001b[0m\u001b[0;34m)\u001b[0m\u001b[0;34m\u001b[0m\u001b[0;34m\u001b[0m\u001b[0m\n\u001b[0m\u001b[1;32m    207\u001b[0m \u001b[0;34m\u001b[0m\u001b[0m\n\u001b[1;32m    208\u001b[0m           \u001b[0;32mif\u001b[0m \u001b[0mtf\u001b[0m\u001b[0;34m.\u001b[0m\u001b[0mio\u001b[0m\u001b[0;34m.\u001b[0m\u001b[0mgfile\u001b[0m\u001b[0;34m.\u001b[0m\u001b[0misdir\u001b[0m\u001b[0;34m(\u001b[0m\u001b[0mfilepath_str\u001b[0m\u001b[0;34m)\u001b[0m\u001b[0;34m:\u001b[0m\u001b[0;34m\u001b[0m\u001b[0;34m\u001b[0m\u001b[0m\n",
            "\u001b[0;31mOSError\u001b[0m: No file or directory found at /content/gdrive/MyDrive/Saved-Models/model_parsing_1_2.h5"
          ]
        }
      ],
      "source": [
        "%%time\n",
        "\n",
        "INITIAL_LR = 1e-3\n",
        "MIN_LR = 1e-6\n",
        "LR_REDUCTION_FACTOR = 0.1\n",
        "LR_REUCTION_PATIENCE = 2\n",
        "\n",
        "EARLY_STOPPING_PATIENCE = 2\n",
        "\n",
        "EPOCHS = 1\n",
        "VERBOSE = 2\n",
        "# BATCH_SIZE_PARSING = 16 # defined as global parameter for human parsing model\n",
        "\n",
        "# These file names refer to names by which model weights files will be saved or loaded: model_parsing_[model_number]_[saved_file_number]\n",
        "WEIGHT_FILE_NAME = 'model_parsing_1_2.h5'\n",
        "MODEL_FILE_NAME = 'model_parsing_1_3.h5'\n",
        "\n",
        "model_parsing_1 = build_unet_model(input_shape=(IMG_HEIGHT, IMG_WIDTH, N_CHANNELS), n_classes=N_CLASSES)\n",
        "\n",
        "if run_model_parsing_1:\n",
        "\n",
        "  model_parsing_1.compile(loss=tf.keras.losses.CategoricalCrossentropy(), optimizer=tf.keras.optimizers.Adam(INITIAL_LR), metrics=['accuracy'])\n",
        "\n",
        "  callbacks = [\n",
        "      ModelCheckpoint(os.path.join(saved_models_path, WEIGHT_FILE_NAME), save_best_only=True, save_weights_only=True),\n",
        "      ReduceLROnPlateau(monitor='val_loss', factor=LR_REDUCTION_FACTOR, patience=LR_REUCTION_PATIENCE, min_lr=MIN_LR),\n",
        "      EarlyStopping(monitor='val_loss', patience=EARLY_STOPPING_PATIENCE),\n",
        "  ]\n",
        "\n",
        "  model_parsing_1.fit(train_data_1, steps_per_epoch=len(train_data_1),\n",
        "                      validation_data=valid_data_1, validation_steps=len(valid_data_1),\n",
        "                      epochs=EPOCHS, verbose=VERBOSE, batch_size=BATCH_SIZE_PARSING, callbacks=callbacks)\n",
        "  \n",
        "  model_parsing_1.save(os.path.join(saved_models_path, MODEL_FILE_NAME))\n",
        "\n",
        "else:\n",
        "\n",
        "  # currently we are using saved model as model weight file\n",
        "  model_parsing_1 = load_model(os.path.join(saved_models_path, WEIGHT_FILE_NAME))\n",
        "\n",
        "model_parsing_1.summary()\n",
        "\n",
        "# visualize a plot of model\n",
        "# tf.keras.utils.plot_model(model_parsing_0, show_shapes=True,)"
      ]
    },
    {
      "cell_type": "code",
      "execution_count": null,
      "metadata": {
        "colab": {
          "background_save": true
        },
        "id": "a5lNqVYoD6XD"
      },
      "outputs": [],
      "source": [
        "# plot_and_predict_model(merged_rgb_color_map, merged_class_labels, model_parsing_1)"
      ]
    },
    {
      "cell_type": "code",
      "execution_count": null,
      "metadata": {
        "colab": {
          "background_save": true
        },
        "id": "zetfbxpffGUJ"
      },
      "outputs": [],
      "source": []
    }
  ],
  "metadata": {
    "accelerator": "GPU",
    "colab": {
      "provenance": []
    },
    "gpuClass": "standard",
    "kernelspec": {
      "display_name": "Python 3",
      "name": "python3"
    },
    "language_info": {
      "name": "python"
    }
  },
  "nbformat": 4,
  "nbformat_minor": 0
}